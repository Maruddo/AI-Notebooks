{
  "cells": [
    {
      "cell_type": "markdown",
      "id": "0c9beb41-8c2e-49c8-bfa9-9e687aea21aa",
      "metadata": {
        "id": "0c9beb41-8c2e-49c8-bfa9-9e687aea21aa"
      },
      "source": [
        "# NEURAL NETWORKS FOR MNIST"
      ]
    },
    {
      "cell_type": "markdown",
      "id": "d5f5db60-b645-42d6-a390-435e38bc1172",
      "metadata": {
        "id": "d5f5db60-b645-42d6-a390-435e38bc1172"
      },
      "source": [
        "##  Importing all"
      ]
    },
    {
      "cell_type": "code",
      "execution_count": null,
      "id": "9b62cf54-bf7b-4c80-8478-54729bc50209",
      "metadata": {
        "id": "9b62cf54-bf7b-4c80-8478-54729bc50209"
      },
      "outputs": [],
      "source": [
        "import numpy as np\n",
        "import matplotlib.pyplot as plt\n",
        "from sklearn.datasets import fetch_openml\n",
        "import seaborn as sns\n",
        "from sklearn.metrics import accuracy_score, confusion_matrix\n",
        "import idx2numpy"
      ]
    },
    {
      "cell_type": "markdown",
      "id": "1ac703cd-7629-4399-b3e5-2215cf0c2b4d",
      "metadata": {
        "id": "1ac703cd-7629-4399-b3e5-2215cf0c2b4d"
      },
      "source": [
        "## Define linear layer"
      ]
    },
    {
      "cell_type": "code",
      "execution_count": null,
      "id": "62c4ee09-f2ba-4d69-a4be-1ce80b5edb0e",
      "metadata": {
        "id": "62c4ee09-f2ba-4d69-a4be-1ce80b5edb0e"
      },
      "outputs": [],
      "source": [
        "class Linear_layer():\n",
        "    def __init__(self, input_dimensions, output_dimensions):\n",
        "        self.W = 2 * np.random.rand(input_dimensions, output_dimensions) - 1\n",
        "        self.B = np.random.rand(1, output_dimensions)\n",
        "\n",
        "\n",
        "    def forward(self, x):\n",
        "        self.x = x\n",
        "        return x @ self.W + self.B\n",
        "\n",
        "    def backward(self, error):\n",
        "        self.dW = self.x.T @ error*0.5\n",
        "        self.dB = error.sum(axis=0, keepdims=True)   #dCo/dB = error se hace media del error\n",
        "        return error @ self.W.T\n",
        "\n",
        "    def update_parameters(self, lr):\n",
        "        self.W = self.W - lr * self.dW\n",
        "        self.B = self.B - lr * self.dB\n"
      ]
    },
    {
      "cell_type": "markdown",
      "id": "731ee0fa-1626-4efa-b5e9-b65e00705bb2",
      "metadata": {
        "id": "731ee0fa-1626-4efa-b5e9-b65e00705bb2"
      },
      "source": [
        "## Define activation layers and input"
      ]
    },
    {
      "cell_type": "code",
      "execution_count": null,
      "id": "9025c1d0-6feb-45c2-bfdb-b2eb0b1d80a2",
      "metadata": {
        "id": "9025c1d0-6feb-45c2-bfdb-b2eb0b1d80a2"
      },
      "outputs": [],
      "source": [
        "class Relu_layer():\n",
        "    def __init__(self):\n",
        "        pass\n",
        "\n",
        "    def forward(self, x):\n",
        "        self.Z = np.maximum(0,x)\n",
        "        return self.Z\n",
        "\n",
        "    def backward(self, error):\n",
        "        return error * (self.Z > 0)\n",
        "\n",
        "    def update_parameters(self, learning_rate):\n",
        "        pass\n",
        "\n",
        "class Input_layer():\n",
        "    def __init__(self, input_size):\n",
        "        self.input_size = input_size\n",
        "\n",
        "    def forward(self, x):\n",
        "        return x\n",
        "\n",
        "    def backward(self, error):\n",
        "        return error\n",
        "\n",
        "    def update_parameters(self, learning_rate):\n",
        "        pass\n",
        "\n",
        "class Flatten_layer():\n",
        "    def __init__(self):\n",
        "        pass\n",
        "    def forward(self, x):  # x.shape = (bs,28,28) -> (bs. 784)\n",
        "        return x.reshape(x.shape[0], x.shape[1]*x.shape[2])\n",
        "    def backward(self, error):\n",
        "        pass\n",
        "    def update_parameters(self, learning_rate):\n",
        "        pass"
      ]
    },
    {
      "cell_type": "code",
      "execution_count": null,
      "id": "58867d23-82e4-4883-abb7-b981f959faf6",
      "metadata": {
        "id": "58867d23-82e4-4883-abb7-b981f959faf6"
      },
      "outputs": [],
      "source": [
        "def softmax(x):\n",
        "    exp_x = np.exp(x - np.max(x, axis=1, keepdims = True))\n",
        "    return exp_x / np.sum(exp_x, axis=1, keepdims = True)"
      ]
    },
    {
      "cell_type": "markdown",
      "id": "26289e1f-65d5-497e-9661-fc4fe947aab0",
      "metadata": {
        "id": "26289e1f-65d5-497e-9661-fc4fe947aab0"
      },
      "source": [
        "## Model Design"
      ]
    },
    {
      "cell_type": "code",
      "execution_count": null,
      "id": "0cf0e3d5-a505-4394-8a42-cb86baa8688b",
      "metadata": {
        "id": "0cf0e3d5-a505-4394-8a42-cb86baa8688b"
      },
      "outputs": [],
      "source": [
        "class NN_model():\n",
        "    def __init__(self, input_dimensions, output_dimensions, hidden_dimensions):\n",
        "        self.sequential = [Flatten_layer(),\n",
        "                           Input_layer(input_dimensions),\n",
        "                           Linear_layer(input_dimensions,hidden_dimensions),\n",
        "                           Relu_layer(),\n",
        "                           Linear_layer(hidden_dimensions,output_dimensions)]\n",
        "\n",
        "    def forward(self, x, training=True):\n",
        "        for layer in self.sequential:\n",
        "            y = layer.forward(x)  # Recorrer las capas haciendo forward y sacando la salida Y\n",
        "            x = y                 # La X de la siguiente capa será la Y de la actual\n",
        "\n",
        "        return softmax(y)\n",
        "\n",
        "    def backward(self, error):\n",
        "        for layer in reversed(self.sequential):\n",
        "            error = layer.backward(error)\n",
        "\n",
        "        return error\n",
        "\n",
        "    def update_parameters(self, learning_rate):\n",
        "        for layer in self.sequential:\n",
        "            layer.update_parameters(learning_rate)"
      ]
    },
    {
      "cell_type": "code",
      "execution_count": null,
      "id": "01fd6853-8e0e-4622-9d30-aa85e2268f24",
      "metadata": {
        "id": "01fd6853-8e0e-4622-9d30-aa85e2268f24"
      },
      "outputs": [],
      "source": [
        "class Dataloader():\n",
        "    def __init__(self,x,y, batch_size, shuffle = True):\n",
        "\n",
        "        self.batch_size = batch_size\n",
        "        randomizer = np.arange(len(y))\n",
        "        if shuffle:\n",
        "            np.random.shuffle(randomizer)\n",
        "        self.x = x[randomizer]\n",
        "        self.y = y[randomizer]\n",
        "\n",
        "    def __len__(self):\n",
        "        return len(self.y)\n",
        "\n",
        "    def __getitem__(self,idx):\n",
        "        return self.x[idx]/255,self.y[idx]\n",
        "\n",
        "def one_hot(y,num_classes):\n",
        "    y_encoded = np.zeros((len(y),num_classes))\n",
        "    y_encoded[np.arange(len(y)), y] = 1\n",
        "    return y_encoded"
      ]
    },
    {
      "cell_type": "code",
      "execution_count": null,
      "id": "7d50f46e-e108-4651-a6d9-f6da812711f3",
      "metadata": {
        "id": "7d50f46e-e108-4651-a6d9-f6da812711f3"
      },
      "outputs": [],
      "source": [
        "def train(model, dataloader, num_epochs=10, learning_rate=0.1, num_classes=10, verbose = True):\n",
        "    for epoch in range(num_epochs):\n",
        "        for i in np.arange(0,len(dataloader),dataloader.batch_size):\n",
        "            if i+dataloader.batch_size < len(dataloader):\n",
        "                X_batch, y_batch = dataloader[i:i+dataloader.batch_size]\n",
        "            else:\n",
        "                X_batch, y_batch = dataloader[i:len(dataloader)]\n",
        "\n",
        "            # 0. One_Hot Encoding\n",
        "            y_real = one_hot(y_batch,num_classes)\n",
        "\n",
        "            # 1. Forward pass\n",
        "            y_pred = model.forward(X_batch)\n",
        "\n",
        "            # 2. Calcular error\n",
        "            error = -2 * (y_real - y_pred)\n",
        "\n",
        "            # 3. Backward pass\n",
        "            model.backward(error)\n",
        "\n",
        "            # 4. Actualizar parámetros\n",
        "            model.update_parameters(learning_rate)\n",
        "\n",
        "        coste = np.mean((y_real - y_pred)**2)\n",
        "        if verbose:\n",
        "            print(\"Coste: \",coste)\n",
        "\n",
        "        # Imprimir información sobre el progreso del entrenamiento (opcional)\n",
        "        print(f\"Epoch {epoch + 1}/{num_epochs} completada.\")"
      ]
    },
    {
      "cell_type": "code",
      "execution_count": null,
      "id": "6e3bbb7d-d0f6-4b13-bf02-68dd7229430b",
      "metadata": {
        "id": "6e3bbb7d-d0f6-4b13-bf02-68dd7229430b"
      },
      "outputs": [],
      "source": [
        "def test_step(model, X):\n",
        "    y_pred = model.forward(X)\n",
        "    return y_pred\n",
        "\n",
        "def test_loop(model, dataloader, verbose):\n",
        "    all_preds = []\n",
        "    all_labels = []\n",
        "\n",
        "    for i in np.arange(0,len(dataloader),dataloader.batch_size):\n",
        "        if i+dataloader.batch_size < len(dataloader):\n",
        "            X_batch, y_batch = dataloader[i:i+dataloader.batch_size]\n",
        "        else:\n",
        "            X_batch, y_batch = dataloader[i:len(dataloader)]\n",
        "\n",
        "        y_pred = test_step(model, X_batch)\n",
        "\n",
        "        all_preds.append(np.argmax(y_pred, axis=1))\n",
        "        all_labels.append(y_batch)\n",
        "\n",
        "    all_preds = np.concatenate(all_preds)\n",
        "    all_labels = np.concatenate(all_labels)\n",
        "\n",
        "    # Precisión total\n",
        "    accuracy = np.mean(all_preds == all_labels)\n",
        "    if verbose:\n",
        "        print(f\"Precisión en test: {accuracy:.4f}\")\n",
        "\n",
        "    # Matriz de confusión\n",
        "    cm = confusion_matrix(all_labels, all_preds)\n",
        "\n",
        "    # Visualización\n",
        "    plt.figure(figsize=(8, 6))\n",
        "    sns.heatmap(cm, annot=True, fmt=\"d\", cmap=\"Blues\")\n",
        "    plt.xlabel(\"Predicción\")\n",
        "    plt.ylabel(\"Etiqueta real\")\n",
        "    plt.title(\"Matriz de Confusión\")\n",
        "    plt.show()\n"
      ]
    },
    {
      "cell_type": "code",
      "execution_count": null,
      "id": "EScxCHWjSGk2",
      "metadata": {
        "colab": {
          "base_uri": "https://localhost:8080/",
          "height": 1000
        },
        "id": "EScxCHWjSGk2",
        "outputId": "f2e78e2b-d70a-4f9f-9353-3e73fdfe30f0"
      },
      "outputs": [
        {
          "name": "stdout",
          "output_type": "stream",
          "text": [
            "Coste:  0.06556087412326206\n",
            "Epoch 1/10 completada.\n",
            "Coste:  0.03981019741481444\n",
            "Epoch 2/10 completada.\n",
            "Coste:  0.03979268701249624\n",
            "Epoch 3/10 completada.\n",
            "Coste:  0.03951467420676261\n",
            "Epoch 4/10 completada.\n",
            "Coste:  0.029316865959089076\n",
            "Epoch 5/10 completada.\n",
            "Coste:  0.0330788421833188\n",
            "Epoch 6/10 completada.\n",
            "Coste:  0.03642692558508175\n",
            "Epoch 7/10 completada.\n",
            "Coste:  0.02724653315504718\n",
            "Epoch 8/10 completada.\n",
            "Coste:  0.03447066922785415\n",
            "Epoch 9/10 completada.\n",
            "Coste:  0.03707520920203528\n",
            "Epoch 10/10 completada.\n",
            "Precisión en test: 0.8886\n"
          ]
        },
        {
          "data": {
            "image/png": "[encoded data removed]",
            "text/plain": [
              "<Figure size 800x600 with 2 Axes>"
            ]
          },
          "metadata": {},
          "output_type": "display_data"
        }
      ],
      "source": [
        "def main(hidden_dimension = 100, batch_size = 32, learning_rate = 0.03, num_epochs = 10, verbose = True):\n",
        "\n",
        "    #Importar datos\n",
        "    train_images, train_labels = 'dataset/train-images.idx3-ubyte', 'dataset/train-labels.idx1-ubyte'\n",
        "    test_images, test_labels = 'dataset/t10k-images.idx3-ubyte', 'dataset/t10k-labels.idx1-ubyte'\n",
        "\n",
        "    X_train, X_test = idx2numpy.convert_from_file(train_images), idx2numpy.convert_from_file(test_images)\n",
        "    y_train, y_test = idx2numpy.convert_from_file(train_labels), idx2numpy.convert_from_file(test_labels)\n",
        "\n",
        "    #Crear y entrenar el modelo\n",
        "    model = NN_model(784,10,hidden_dimension)\n",
        "    dataloader_t = Dataloader(X_train,y_train,batch_size)\n",
        "    train(model, dataloader_t, num_epochs, learning_rate, 10, verbose)\n",
        "    test_dataloader = Dataloader(X_test,y_test, batch_size)\n",
        "    test_loop(model, test_dataloader, verbose)\n",
        "\n",
        "if __name__ == \"__main__\":\n",
        "    # Ejecutar el modelo con los parámetros deseados\n",
        "    main(hidden_dimension = 100,\n",
        "        batch_size = 64,\n",
        "        learning_rate = 0.03,\n",
        "        num_epochs = 10,\n",
        "        verbose = True)"
      ]
    }
  ],
  "metadata": {
    "colab": {
      "provenance": []
    },
    "kernelspec": {
      "display_name": "skborn",
      "language": "python",
      "name": "skborn"
    },
    "language_info": {
      "codemirror_mode": {
        "name": "ipython",
        "version": 3
      },
      "file_extension": ".py",
      "mimetype": "text/x-python",
      "name": "python",
      "nbconvert_exporter": "python",
      "pygments_lexer": "ipython3",
      "version": "3.13.5"
    }
  },
  "nbformat": 4,
  "nbformat_minor": 5
}
