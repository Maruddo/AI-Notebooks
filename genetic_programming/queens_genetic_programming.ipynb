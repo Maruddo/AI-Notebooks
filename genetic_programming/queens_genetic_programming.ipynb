{
  "cells": [
    {
      "cell_type": "markdown",
      "metadata": {
        "id": "dBqy2gbaPUCV"
      },
      "source": [
        "# Queens Problem"
      ]
    },
    {
      "cell_type": "markdown",
      "metadata": {
        "id": "UU5Gk8okPUcu"
      },
      "source": [
        "## Import libraries"
      ]
    },
    {
      "cell_type": "code",
      "execution_count": 172,
      "metadata": {
        "id": "JHiVxPQYPYeU"
      },
      "outputs": [],
      "source": [
        "import numpy as np\n",
        "import random"
      ]
    },
    {
      "cell_type": "markdown",
      "metadata": {
        "id": "tAQEQOm6PaJ2"
      },
      "source": [
        "## Define Agent, population and display"
      ]
    },
    {
      "cell_type": "code",
      "execution_count": 173,
      "metadata": {
        "id": "T7QTiGvlPab0"
      },
      "outputs": [],
      "source": [
        "def init_population(initial_population_size, board_size):\n",
        "    population = []\n",
        "    for i in range(initial_population_size):\n",
        "      agent = [x for x in range(1, BOARD_SIZE+1)]\n",
        "      random.shuffle(agent)\n",
        "      population.append(agent)\n",
        "    return population\n",
        "\n",
        "def print_board(board_size, agent):\n",
        "    for y in range(1,1+board_size):\n",
        "      row = []\n",
        "      for x in range(board_size):\n",
        "        if agent.index(y) == x:\n",
        "          row.append(1)\n",
        "        else:\n",
        "          row.append(0)\n",
        "      print(row)"
      ]
    },
    {
      "cell_type": "markdown",
      "metadata": {
        "id": "_2Vmv0ppPfY0"
      },
      "source": [
        "## Define crossover"
      ]
    },
    {
      "cell_type": "code",
      "execution_count": 174,
      "metadata": {
        "id": "GWnb7KTTPc3O"
      },
      "outputs": [],
      "source": [
        "def crossover(parent1, parent2):\n",
        "    child1 = parent1[:len(parent1)//2]\n",
        "    child2 = parent2[:len(parent2)//2]\n",
        "    for i in parent2:\n",
        "      if i not in child1:\n",
        "        child1.append(i)\n",
        "    for i in parent1:\n",
        "      if i not in child2:\n",
        "        child2.append(i)\n",
        "    return child1, child2"
      ]
    },
    {
      "cell_type": "markdown",
      "metadata": {
        "id": "7AUZLL_cPlQS"
      },
      "source": [
        "## Define mutation"
      ]
    },
    {
      "cell_type": "code",
      "execution_count": 175,
      "metadata": {
        "id": "eauRV2NrPoOK"
      },
      "outputs": [],
      "source": [
        "def mutation(agent):\n",
        "  variety = random.random()\n",
        "  if variety < 0.33:\n",
        "    position1 = random.randint(0, len(agent) - 1)\n",
        "    position2 = random.randint(0, len(agent) - 1)\n",
        "    while position1 == position2:\n",
        "      position2 = random.randint(0, len(agent) - 1)\n",
        "    agent[position1], agent[position2] = agent[position2], agent[position1]\n",
        "  elif variety < 0.66:\n",
        "    start = random.randint(0, len(agent) - 1)\n",
        "    end = random.randint(start, len(agent))\n",
        "    agent[start:end] = reversed(agent[start:end])\n",
        "  else:\n",
        "    random.shuffle(agent)\n",
        "  return agent\n",
        "\n",
        "def mutation_with_chance(agent, mutation_chance):\n",
        "    if random.random() < MUTATION_CHANCE:\n",
        "      agent = mutation(agent)\n",
        "    return agent"
      ]
    },
    {
      "cell_type": "markdown",
      "metadata": {
        "id": "-9mkUNpDPn4c"
      },
      "source": [
        "## Define crossover of the entire population with mutation"
      ]
    },
    {
      "cell_type": "code",
      "execution_count": 176,
      "metadata": {
        "id": "0iMV3xbvPsgW"
      },
      "outputs": [],
      "source": [
        "def replicate(population, mutation_chance):\n",
        "  random.shuffle(population)\n",
        "  parents = list(range(1, len(population),2))\n",
        "  random_parent = random.choice(parents)\n",
        "  parents.remove(random_parent)\n",
        "  for i in range(0,len(population),2):\n",
        "    parent1 = population[i]\n",
        "    parent2 = population[random_parent]\n",
        "    child1,child2 = crossover(parent1, parent2)\n",
        "    mutation_with_chance(child1, mutation_chance)\n",
        "    mutation_with_chance(child2, mutation_chance)\n",
        "    population.append(child1)\n",
        "    population.append(child2)\n",
        "  return population"
      ]
    },
    {
      "cell_type": "markdown",
      "metadata": {
        "id": "dY0Wn_WVPvkG"
      },
      "source": [
        "## Define fitness function"
      ]
    },
    {
      "cell_type": "code",
      "execution_count": 177,
      "metadata": {
        "id": "1Ha0HHXHPxLw"
      },
      "outputs": [],
      "source": [
        "def fitness_agent(agent):\n",
        "    collisions = 0\n",
        "    for y in agent:\n",
        "      for x in range(len(agent)):\n",
        "        if abs(y-agent[x]) == abs(x-agent.index(y)):\n",
        "          collisions += 1\n",
        "    return collisions-len(agent)\n",
        "\n",
        "def fitness_population(population):\n",
        "    fitness_list = []\n",
        "    for agent in population:\n",
        "      fitness_list.append(fitness_agent(agent))\n",
        "\n",
        "    return fitness_list"
      ]
    },
    {
      "cell_type": "markdown",
      "metadata": {
        "id": "q57WM8T6Pypw"
      },
      "source": [
        "## Population Selection (by score)"
      ]
    },
    {
      "cell_type": "code",
      "execution_count": 178,
      "metadata": {
        "id": "PuLa-Qo_P0ii"
      },
      "outputs": [],
      "source": [
        "def sort_population(population, fitness_list):\n",
        "    fitness_list = sorted(zip(population, fitness_list),key = lambda x:x[1])\n",
        "    return fitness_list\n",
        "\n",
        "def select_population(population, fitness_list, best_pop, mid_pop, least_pop, random_pop):\n",
        "    global INITIAL_POPULATION\n",
        "    sorted_population = sort_population(population, fitness_list)\n",
        "    new_gen, fitness = zip(*sorted_population)\n",
        "    new_gen = list(new_gen)\n",
        "    if fitness[0] != 0:\n",
        "      best_gen = new_gen[:int(INITIAL_POPULATION*best_pop)]\n",
        "      mid_gen = random.sample(new_gen[int(INITIAL_POPULATION*best_pop):-int(INITIAL_POPULATION*least_pop)], int(mid_pop*INITIAL_POPULATION))\n",
        "      least_gen = new_gen[-int(INITIAL_POPULATION*least_pop):]\n",
        "      random_gen = init_population(int(INITIAL_POPULATION*random_pop), BOARD_SIZE)\n",
        "      random.shuffle(random_gen)\n",
        "      selected_pop = best_gen + mid_gen + least_gen + random_gen\n",
        "      return list(selected_pop), fitness[0]\n",
        "    else:\n",
        "      return new_gen, fitness[0]"
      ]
    },
    {
      "cell_type": "markdown",
      "metadata": {
        "id": "OVQmkIFrP2qi"
      },
      "source": [
        "## Define main"
      ]
    },
    {
      "cell_type": "code",
      "execution_count": 179,
      "metadata": {
        "id": "CPG6shLNP50m"
      },
      "outputs": [],
      "source": [
        "def main(population_size, board_size, mutation_chance, best_pop, mid_pop, least_pop, random_pop):\n",
        "    population = init_population(INITIAL_POPULATION, BOARD_SIZE)\n",
        "    best_fitness = 1\n",
        "    last_fitness = 0\n",
        "    count_fitness = 0\n",
        "    iteration = 0\n",
        "\n",
        "    while best_fitness > 0:\n",
        "      replicate(population, MUTATION_CHANCE)\n",
        "      fitness_list = fitness_population(population)\n",
        "      population, fitness = select_population(population, fitness_list, best_pop, mid_pop, least_pop, random_pop)\n",
        "      best_fitness = fitness\n",
        "\n",
        "      if iteration % 100 == 0:\n",
        "        print(f'Iteration {iteration} -> Best fitness {best_fitness} -> Population: {len(population)}')\n",
        "        if mutation_chance < 0.4 and count_fitness == 4:\n",
        "          mutation_chance += 0.1\n",
        "          print(f\"Mutation increased to {int(mutation_chance*100)}%\")\n",
        "          count_fitness = 0\n",
        "        elif mutation_chance == 0.4 and count_fitness == 8 and best_fitness == 2:\n",
        "            print(\"Mutation chance is at maximum (40%) reseting population and mutation...\")\n",
        "            population = init_population(INITIAL_POPULATION, BOARD_SIZE)\n",
        "            mutation_chance = 0.1\n",
        "            count_fitness = 0\n",
        "        elif last_fitness == best_fitness:\n",
        "            count_fitness += 1\n",
        "        else:\n",
        "            last_fitness = best_fitness\n",
        "\n",
        "      iteration += 1\n",
        "    print(f\"A valid gene {population[0]} with fitness {fitness} has been found in iteration {iteration}\")\n",
        "    print_board(board_size, population[0])"
      ]
    },
    {
      "cell_type": "markdown",
      "metadata": {
        "id": "RKeKEEIPP67U"
      },
      "source": [
        "## Define global variables and test code"
      ]
    },
    {
      "cell_type": "code",
      "execution_count": null,
      "metadata": {
        "colab": {
          "base_uri": "https://localhost:8080/"
        },
        "id": "fCMbhK3BPRQp",
        "outputId": "55d47458-1c75-4c43-e472-28877457ecf7"
      },
      "outputs": [
        {
          "name": "stdout",
          "output_type": "stream",
          "text": [
            "Iteration 0 -> Best fitness 6 -> Population: 100\n",
            "Iteration 100 -> Best fitness 4 -> Population: 100\n",
            "Iteration 200 -> Best fitness 2 -> Population: 100\n",
            "Iteration 300 -> Best fitness 2 -> Population: 100\n",
            "Iteration 400 -> Best fitness 2 -> Population: 100\n",
            "Iteration 500 -> Best fitness 2 -> Population: 100\n",
            "Iteration 600 -> Best fitness 2 -> Population: 100\n",
            "Iteration 700 -> Best fitness 2 -> Population: 100\n",
            "Mutation increased to 20%\n",
            "Iteration 800 -> Best fitness 2 -> Population: 100\n",
            "Iteration 900 -> Best fitness 2 -> Population: 100\n",
            "Iteration 1000 -> Best fitness 2 -> Population: 100\n",
            "Iteration 1100 -> Best fitness 2 -> Population: 100\n",
            "Iteration 1200 -> Best fitness 2 -> Population: 100\n",
            "Mutation increased to 30%\n",
            "Iteration 1300 -> Best fitness 2 -> Population: 100\n",
            "Iteration 1400 -> Best fitness 2 -> Population: 100\n",
            "Iteration 1500 -> Best fitness 2 -> Population: 100\n",
            "Iteration 1600 -> Best fitness 2 -> Population: 100\n",
            "Iteration 1700 -> Best fitness 2 -> Population: 100\n",
            "Mutation increased to 40%\n",
            "Iteration 1800 -> Best fitness 2 -> Population: 100\n",
            "Iteration 1900 -> Best fitness 2 -> Population: 100\n",
            "Iteration 2000 -> Best fitness 2 -> Population: 100\n",
            "Iteration 2100 -> Best fitness 2 -> Population: 100\n",
            "Iteration 2200 -> Best fitness 2 -> Population: 100\n",
            "Iteration 2300 -> Best fitness 2 -> Population: 100\n",
            "Iteration 2400 -> Best fitness 2 -> Population: 100\n",
            "Iteration 2500 -> Best fitness 2 -> Population: 100\n",
            "Iteration 2600 -> Best fitness 2 -> Population: 100\n",
            "Mutation chance is at maximum (40%) reseting population and mutation...\n",
            "Iteration 2700 -> Best fitness 4 -> Population: 100\n",
            "Iteration 2800 -> Best fitness 4 -> Population: 100\n",
            "Iteration 2900 -> Best fitness 4 -> Population: 100\n",
            "Iteration 3000 -> Best fitness 4 -> Population: 100\n",
            "Iteration 3100 -> Best fitness 2 -> Population: 100\n",
            "Iteration 3200 -> Best fitness 2 -> Population: 100\n",
            "Iteration 3300 -> Best fitness 2 -> Population: 100\n",
            "Mutation increased to 20%\n",
            "Iteration 3400 -> Best fitness 2 -> Population: 100\n",
            "Iteration 3500 -> Best fitness 2 -> Population: 100\n",
            "Iteration 3600 -> Best fitness 2 -> Population: 100\n",
            "Iteration 3700 -> Best fitness 2 -> Population: 100\n",
            "Iteration 3800 -> Best fitness 2 -> Population: 100\n",
            "Mutation increased to 30%\n",
            "Iteration 3900 -> Best fitness 2 -> Population: 100\n",
            "Iteration 4000 -> Best fitness 2 -> Population: 100\n",
            "Iteration 4100 -> Best fitness 2 -> Population: 100\n",
            "Iteration 4200 -> Best fitness 2 -> Population: 100\n",
            "Iteration 4300 -> Best fitness 2 -> Population: 100\n",
            "Mutation increased to 40%\n",
            "Iteration 4400 -> Best fitness 2 -> Population: 100\n",
            "Iteration 4500 -> Best fitness 2 -> Population: 100\n",
            "Iteration 4600 -> Best fitness 2 -> Population: 100\n",
            "Iteration 4700 -> Best fitness 2 -> Population: 100\n",
            "Iteration 4800 -> Best fitness 2 -> Population: 100\n",
            "Iteration 4900 -> Best fitness 2 -> Population: 100\n",
            "Iteration 5000 -> Best fitness 2 -> Population: 100\n",
            "Iteration 5100 -> Best fitness 2 -> Population: 100\n",
            "Iteration 5200 -> Best fitness 2 -> Population: 100\n",
            "Mutation chance is at maximum (40%) reseting population and mutation...\n",
            "Iteration 5300 -> Best fitness 4 -> Population: 100\n",
            "Iteration 5400 -> Best fitness 2 -> Population: 100\n",
            "Iteration 5500 -> Best fitness 2 -> Population: 100\n",
            "Iteration 5600 -> Best fitness 2 -> Population: 100\n",
            "Iteration 5700 -> Best fitness 2 -> Population: 100\n",
            "Iteration 5800 -> Best fitness 2 -> Population: 100\n",
            "Iteration 5900 -> Best fitness 2 -> Population: 100\n",
            "Mutation increased to 20%\n",
            "Iteration 6000 -> Best fitness 2 -> Population: 100\n",
            "Iteration 6100 -> Best fitness 2 -> Population: 100\n",
            "Iteration 6200 -> Best fitness 2 -> Population: 100\n",
            "Iteration 6300 -> Best fitness 2 -> Population: 100\n",
            "Iteration 6400 -> Best fitness 2 -> Population: 100\n",
            "Mutation increased to 30%\n",
            "Iteration 6500 -> Best fitness 2 -> Population: 100\n",
            "Iteration 6600 -> Best fitness 2 -> Population: 100\n",
            "Iteration 6700 -> Best fitness 2 -> Population: 100\n",
            "Iteration 6800 -> Best fitness 2 -> Population: 100\n",
            "Iteration 6900 -> Best fitness 2 -> Population: 100\n",
            "Mutation increased to 40%\n",
            "Iteration 7000 -> Best fitness 2 -> Population: 100\n",
            "Iteration 7100 -> Best fitness 2 -> Population: 100\n",
            "Iteration 7200 -> Best fitness 2 -> Population: 100\n",
            "Iteration 7300 -> Best fitness 2 -> Population: 100\n",
            "Iteration 7400 -> Best fitness 2 -> Population: 100\n",
            "Iteration 7500 -> Best fitness 2 -> Population: 100\n",
            "Iteration 7600 -> Best fitness 2 -> Population: 100\n",
            "Iteration 7700 -> Best fitness 2 -> Population: 100\n",
            "Iteration 7800 -> Best fitness 2 -> Population: 100\n",
            "Mutation chance is at maximum (40%) reseting population and mutation...\n",
            "Iteration 7900 -> Best fitness 4 -> Population: 100\n",
            "Iteration 8000 -> Best fitness 2 -> Population: 100\n",
            "Iteration 8100 -> Best fitness 2 -> Population: 100\n",
            "A valid gene [10, 12, 16, 6, 3, 14, 19, 1, 8, 11, 18, 4, 9, 20, 15, 2, 7, 5, 13, 17] with fitness 0 has been found in iteration 8175\n",
            "[0, 0, 0, 0, 0, 0, 0, 1, 0, 0, 0, 0, 0, 0, 0, 0, 0, 0, 0, 0]\n",
            "[0, 0, 0, 0, 0, 0, 0, 0, 0, 0, 0, 0, 0, 0, 0, 1, 0, 0, 0, 0]\n",
            "[0, 0, 0, 0, 1, 0, 0, 0, 0, 0, 0, 0, 0, 0, 0, 0, 0, 0, 0, 0]\n",
            "[0, 0, 0, 0, 0, 0, 0, 0, 0, 0, 0, 1, 0, 0, 0, 0, 0, 0, 0, 0]\n",
            "[0, 0, 0, 0, 0, 0, 0, 0, 0, 0, 0, 0, 0, 0, 0, 0, 0, 1, 0, 0]\n",
            "[0, 0, 0, 1, 0, 0, 0, 0, 0, 0, 0, 0, 0, 0, 0, 0, 0, 0, 0, 0]\n",
            "[0, 0, 0, 0, 0, 0, 0, 0, 0, 0, 0, 0, 0, 0, 0, 0, 1, 0, 0, 0]\n",
            "[0, 0, 0, 0, 0, 0, 0, 0, 1, 0, 0, 0, 0, 0, 0, 0, 0, 0, 0, 0]\n",
            "[0, 0, 0, 0, 0, 0, 0, 0, 0, 0, 0, 0, 1, 0, 0, 0, 0, 0, 0, 0]\n",
            "[1, 0, 0, 0, 0, 0, 0, 0, 0, 0, 0, 0, 0, 0, 0, 0, 0, 0, 0, 0]\n",
            "[0, 0, 0, 0, 0, 0, 0, 0, 0, 1, 0, 0, 0, 0, 0, 0, 0, 0, 0, 0]\n",
            "[0, 1, 0, 0, 0, 0, 0, 0, 0, 0, 0, 0, 0, 0, 0, 0, 0, 0, 0, 0]\n",
            "[0, 0, 0, 0, 0, 0, 0, 0, 0, 0, 0, 0, 0, 0, 0, 0, 0, 0, 1, 0]\n",
            "[0, 0, 0, 0, 0, 1, 0, 0, 0, 0, 0, 0, 0, 0, 0, 0, 0, 0, 0, 0]\n",
            "[0, 0, 0, 0, 0, 0, 0, 0, 0, 0, 0, 0, 0, 0, 1, 0, 0, 0, 0, 0]\n",
            "[0, 0, 1, 0, 0, 0, 0, 0, 0, 0, 0, 0, 0, 0, 0, 0, 0, 0, 0, 0]\n",
            "[0, 0, 0, 0, 0, 0, 0, 0, 0, 0, 0, 0, 0, 0, 0, 0, 0, 0, 0, 1]\n",
            "[0, 0, 0, 0, 0, 0, 0, 0, 0, 0, 1, 0, 0, 0, 0, 0, 0, 0, 0, 0]\n",
            "[0, 0, 0, 0, 0, 0, 1, 0, 0, 0, 0, 0, 0, 0, 0, 0, 0, 0, 0, 0]\n",
            "[0, 0, 0, 0, 0, 0, 0, 0, 0, 0, 0, 0, 0, 1, 0, 0, 0, 0, 0, 0]\n"
          ]
        }
      ],
      "source": [
        "INITIAL_POPULATION = 100\n",
        "BOARD_SIZE = 20\n",
        "MUTATION_CHANCE = 0.1\n",
        "best_pop = 0.5\n",
        "mid_pop = 0.15\n",
        "least_pop = 0.10\n",
        "random_pop = 0.25\n",
        "\n",
        "main(INITIAL_POPULATION, BOARD_SIZE, MUTATION_CHANCE, best_pop, mid_pop, least_pop, random_pop)"
      ]
    }
  ],
  "metadata": {
    "colab": {
      "authorship_tag": "ABX9TyN0uaM+ZNEsGYE8xfoGC6Fm",
      "provenance": []
    },
    "kernelspec": {
      "display_name": "ImgClass",
      "language": "python",
      "name": "python3"
    },
    "language_info": {
      "codemirror_mode": {
        "name": "ipython",
        "version": 3
      },
      "file_extension": ".py",
      "mimetype": "text/x-python",
      "name": "python",
      "nbconvert_exporter": "python",
      "pygments_lexer": "ipython3",
      "version": "3.13.5"
    }
  },
  "nbformat": 4,
  "nbformat_minor": 0
}
