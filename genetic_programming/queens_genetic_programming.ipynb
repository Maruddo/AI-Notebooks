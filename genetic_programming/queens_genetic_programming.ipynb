{
  "nbformat": 4,
  "nbformat_minor": 0,
  "metadata": {
    "colab": {
      "provenance": [],
      "authorship_tag": "ABX9TyN0uaM+ZNEsGYE8xfoGC6Fm"
    },
    "kernelspec": {
      "name": "python3",
      "display_name": "Python 3"
    },
    "language_info": {
      "name": "python"
    }
  },
  "cells": [
    {
      "cell_type": "markdown",
      "source": [
        "# Queens Problem"
      ],
      "metadata": {
        "id": "dBqy2gbaPUCV"
      }
    },
    {
      "cell_type": "markdown",
      "source": [
        "## Import libraries"
      ],
      "metadata": {
        "id": "UU5Gk8okPUcu"
      }
    },
    {
      "cell_type": "code",
      "source": [
        "import numpy as np\n",
        "import random"
      ],
      "metadata": {
        "id": "JHiVxPQYPYeU"
      },
      "execution_count": 55,
      "outputs": []
    },
    {
      "cell_type": "markdown",
      "source": [
        "## Define Agent, population and display"
      ],
      "metadata": {
        "id": "tAQEQOm6PaJ2"
      }
    },
    {
      "cell_type": "code",
      "source": [
        "def init_population(initial_population_size, board_size):\n",
        "    population = []\n",
        "    for i in range(initial_population_size):\n",
        "      agent = [x for x in range(1, BOARD_SIZE+1)]\n",
        "      random.shuffle(agent)\n",
        "      population.append(agent)\n",
        "    return population\n",
        "\n",
        "def print_board(board_size, agent):\n",
        "    for y in range(1,1+board_size):\n",
        "      row = []\n",
        "      for x in range(board_size):\n",
        "        if agent.index(y) == x:\n",
        "          row.append(1)\n",
        "        else:\n",
        "          row.append(0)\n",
        "      print(row)"
      ],
      "metadata": {
        "id": "T7QTiGvlPab0"
      },
      "execution_count": 56,
      "outputs": []
    },
    {
      "cell_type": "markdown",
      "source": [
        "## Define crossover"
      ],
      "metadata": {
        "id": "_2Vmv0ppPfY0"
      }
    },
    {
      "cell_type": "code",
      "source": [
        "def crossover(parent1, parent2):\n",
        "    child1 = parent1[:len(parent1)//2]\n",
        "    child2 = parent2[:len(parent2)//2]\n",
        "    for i in parent2:\n",
        "      if i not in child1:\n",
        "        child1.append(i)\n",
        "    for i in parent1:\n",
        "      if i not in child2:\n",
        "        child2.append(i)\n",
        "    return child1, child2"
      ],
      "metadata": {
        "id": "GWnb7KTTPc3O"
      },
      "execution_count": 57,
      "outputs": []
    },
    {
      "cell_type": "markdown",
      "source": [
        "## Define mutation"
      ],
      "metadata": {
        "id": "7AUZLL_cPlQS"
      }
    },
    {
      "cell_type": "code",
      "source": [
        "def mutation(agent):\n",
        "  variety = random.random()\n",
        "  if variety < 0.33:\n",
        "    position1 = random.randint(0, len(agent) - 1)\n",
        "    position2 = random.randint(0, len(agent) - 1)\n",
        "    while position1 == position2:\n",
        "      position2 = random.randint(0, len(agent) - 1)\n",
        "    agent[position1], agent[position2] = agent[position2], agent[position1]\n",
        "  elif variety < 0.66:\n",
        "    start = random.randint(0, len(agent) - 1)\n",
        "    end = random.randint(start, len(agent))\n",
        "    agent[start:end] = reversed(agent[start:end])\n",
        "  else:\n",
        "    random.shuffle(agent)\n",
        "  return agent\n",
        "\n",
        "def mutation_with_chance(agent, mutation_chance):\n",
        "    if random.random() < MUTATION_CHANCE:\n",
        "      agent = mutation(agent)\n",
        "    return agent"
      ],
      "metadata": {
        "id": "eauRV2NrPoOK"
      },
      "execution_count": 58,
      "outputs": []
    },
    {
      "cell_type": "markdown",
      "source": [
        "## Define crossover of the entire population with mutation"
      ],
      "metadata": {
        "id": "-9mkUNpDPn4c"
      }
    },
    {
      "cell_type": "code",
      "source": [
        "def replicate(population, mutation_chance):\n",
        "  random.shuffle(population)\n",
        "  parents = list(range(1, len(population),2))\n",
        "  random_parent = random.choice(parents)\n",
        "  parents.remove(random_parent)\n",
        "  for i in range(0,len(population),2):\n",
        "    parent1 = population[i]\n",
        "    parent2 = population[random_parent]\n",
        "    child1,child2 = crossover(parent1, parent2)\n",
        "    mutation_with_chance(child1, mutation_chance)\n",
        "    mutation_with_chance(child2, mutation_chance)\n",
        "    population.append(child1)\n",
        "    population.append(child2)\n",
        "  return population"
      ],
      "metadata": {
        "id": "0iMV3xbvPsgW"
      },
      "execution_count": 59,
      "outputs": []
    },
    {
      "cell_type": "markdown",
      "source": [
        "## Define fitness function"
      ],
      "metadata": {
        "id": "dY0Wn_WVPvkG"
      }
    },
    {
      "cell_type": "code",
      "source": [
        "def fitness_agent(agent):\n",
        "    collisions = 0\n",
        "    for y in agent:\n",
        "      for x in range(len(agent)):\n",
        "        if abs(y-agent[x]) == abs(x-agent.index(y)):\n",
        "          collisions += 1\n",
        "    return collisions-len(agent)\n",
        "\n",
        "def fitness_population(population):\n",
        "    fitness_list = []\n",
        "    for agent in population:\n",
        "      fitness_list.append(fitness_agent(agent))\n",
        "\n",
        "    return fitness_list"
      ],
      "metadata": {
        "id": "1Ha0HHXHPxLw"
      },
      "execution_count": 60,
      "outputs": []
    },
    {
      "cell_type": "markdown",
      "source": [
        "## Population Selection (by score)"
      ],
      "metadata": {
        "id": "q57WM8T6Pypw"
      }
    },
    {
      "cell_type": "code",
      "source": [
        "def sort_population(population, fitness_list):\n",
        "    fitness_list = sorted(zip(population, fitness_list),key = lambda x:x[1])\n",
        "    return fitness_list\n",
        "\n",
        "def select_population(population, fitness_list, best_pop, mid_pop, least_pop, random_pop):\n",
        "    global INITIAL_POPULATION\n",
        "    sorted_population = sort_population(population, fitness_list)\n",
        "    new_gen, fitness = zip(*sorted_population)\n",
        "    new_gen = list(new_gen)\n",
        "    if fitness[0] != 0:\n",
        "      best_gen = new_gen[:int(INITIAL_POPULATION*best_pop)]\n",
        "      mid_gen = random.sample(new_gen[int(INITIAL_POPULATION*best_pop):-int(INITIAL_POPULATION*least_pop)], int(mid_pop*INITIAL_POPULATION))\n",
        "      least_gen = new_gen[-int(INITIAL_POPULATION*least_pop):]\n",
        "      random_gen = init_population(int(INITIAL_POPULATION*random_pop), BOARD_SIZE)\n",
        "      random.shuffle(random_gen)\n",
        "      selected_pop = best_gen + mid_gen + least_gen + random_gen\n",
        "      return list(selected_pop), fitness[0]\n",
        "    else:\n",
        "      return new_gen, fitness[0]"
      ],
      "metadata": {
        "id": "PuLa-Qo_P0ii"
      },
      "execution_count": 61,
      "outputs": []
    },
    {
      "cell_type": "markdown",
      "source": [
        "## Define main"
      ],
      "metadata": {
        "id": "OVQmkIFrP2qi"
      }
    },
    {
      "cell_type": "code",
      "source": [
        "def main(population_size, board_size, mutation_chance, best_pop, mid_pop, least_pop, random_pop):\n",
        "    population = init_population(INITIAL_POPULATION, BOARD_SIZE)\n",
        "    best_fitness = 1\n",
        "    last_fitness = 0\n",
        "    count_fitness = 0\n",
        "    iteration = 0\n",
        "\n",
        "    while best_fitness > 0:\n",
        "      replicate(population, MUTATION_CHANCE)\n",
        "      fitness_list = fitness_population(population)\n",
        "      population, fitness = select_population(population, fitness_list, best_pop, mid_pop, least_pop, random_pop)\n",
        "      best_fitness = fitness\n",
        "\n",
        "      if turn % 100 == 0:\n",
        "        print(f'Iteration {iteration} -> Best fitness {best_fitness} -> Population: {len(population)}')\n",
        "        if mutation_chance < 0.4 and count_fitness == 4:\n",
        "          mutation_chance += 0.1\n",
        "          print(f\"Mutation increased to {mutation_chance*100}%\")\n",
        "          count_fitness = 0\n",
        "        elif last_fitness == best_fitness:\n",
        "            count_fitness += 1\n",
        "        else:\n",
        "            last_fitness = best_fitness\n",
        "\n",
        "      iteration += 1\n",
        "    print(f\"A valid gene {population[0]} with fitness {fitness} has been found in iteration {iteration}\")\n",
        "    print_board(board_size, population[0])"
      ],
      "metadata": {
        "id": "CPG6shLNP50m"
      },
      "execution_count": 62,
      "outputs": []
    },
    {
      "cell_type": "markdown",
      "source": [
        "## Define global variables and test code"
      ],
      "metadata": {
        "id": "RKeKEEIPP67U"
      }
    },
    {
      "cell_type": "code",
      "execution_count": 64,
      "metadata": {
        "colab": {
          "base_uri": "https://localhost:8080/"
        },
        "id": "fCMbhK3BPRQp",
        "outputId": "55d47458-1c75-4c43-e472-28877457ecf7"
      },
      "outputs": [
        {
          "output_type": "stream",
          "name": "stdout",
          "text": [
            "Vuelta 0 -> Mejor fitness 10 -> Población: 100\n",
            "Vuelta 100 -> Mejor fitness 2 -> Población: 100\n",
            "Vuelta 200 -> Mejor fitness 2 -> Población: 100\n",
            "Vuelta 300 -> Mejor fitness 2 -> Población: 100\n",
            "Vuelta 400 -> Mejor fitness 2 -> Población: 100\n",
            "Vuelta 500 -> Mejor fitness 2 -> Población: 100\n",
            "Vuelta 600 -> Mejor fitness 2 -> Población: 100\n",
            "Mejora mutacion a 20.0%\n",
            "Vuelta 700 -> Mejor fitness 2 -> Población: 100\n",
            "Vuelta 800 -> Mejor fitness 2 -> Población: 100\n",
            "Vuelta 900 -> Mejor fitness 2 -> Población: 100\n",
            "Vuelta 1000 -> Mejor fitness 2 -> Población: 100\n",
            "Vuelta 1100 -> Mejor fitness 2 -> Población: 100\n",
            "Mejora mutacion a 30.000000000000004%\n",
            "Vuelta 1200 -> Mejor fitness 2 -> Población: 100\n",
            "Vuelta 1300 -> Mejor fitness 2 -> Población: 100\n",
            "Vuelta 1400 -> Mejor fitness 2 -> Población: 100\n",
            "Vuelta 1500 -> Mejor fitness 2 -> Población: 100\n",
            "Vuelta 1600 -> Mejor fitness 2 -> Población: 100\n",
            "Mejora mutacion a 40.0%\n",
            "Vuelta 1700 -> Mejor fitness 2 -> Población: 100\n",
            "Vuelta 1800 -> Mejor fitness 2 -> Población: 100\n",
            "Vuelta 1900 -> Mejor fitness 2 -> Población: 100\n",
            "Vuelta 2000 -> Mejor fitness 2 -> Población: 100\n",
            "Se ha encontrado un gen válido [6, 16, 7, 11, 17, 14, 2, 9, 20, 1, 5, 15, 19, 10, 13, 18, 4, 8, 12, 3] con fitness 0 en la vuelta 2099\n",
            "[0, 0, 0, 0, 0, 0, 0, 0, 0, 1, 0, 0, 0, 0, 0, 0, 0, 0, 0, 0]\n",
            "[0, 0, 0, 0, 0, 0, 1, 0, 0, 0, 0, 0, 0, 0, 0, 0, 0, 0, 0, 0]\n",
            "[0, 0, 0, 0, 0, 0, 0, 0, 0, 0, 0, 0, 0, 0, 0, 0, 0, 0, 0, 1]\n",
            "[0, 0, 0, 0, 0, 0, 0, 0, 0, 0, 0, 0, 0, 0, 0, 0, 1, 0, 0, 0]\n",
            "[0, 0, 0, 0, 0, 0, 0, 0, 0, 0, 1, 0, 0, 0, 0, 0, 0, 0, 0, 0]\n",
            "[1, 0, 0, 0, 0, 0, 0, 0, 0, 0, 0, 0, 0, 0, 0, 0, 0, 0, 0, 0]\n",
            "[0, 0, 1, 0, 0, 0, 0, 0, 0, 0, 0, 0, 0, 0, 0, 0, 0, 0, 0, 0]\n",
            "[0, 0, 0, 0, 0, 0, 0, 0, 0, 0, 0, 0, 0, 0, 0, 0, 0, 1, 0, 0]\n",
            "[0, 0, 0, 0, 0, 0, 0, 1, 0, 0, 0, 0, 0, 0, 0, 0, 0, 0, 0, 0]\n",
            "[0, 0, 0, 0, 0, 0, 0, 0, 0, 0, 0, 0, 0, 1, 0, 0, 0, 0, 0, 0]\n",
            "[0, 0, 0, 1, 0, 0, 0, 0, 0, 0, 0, 0, 0, 0, 0, 0, 0, 0, 0, 0]\n",
            "[0, 0, 0, 0, 0, 0, 0, 0, 0, 0, 0, 0, 0, 0, 0, 0, 0, 0, 1, 0]\n",
            "[0, 0, 0, 0, 0, 0, 0, 0, 0, 0, 0, 0, 0, 0, 1, 0, 0, 0, 0, 0]\n",
            "[0, 0, 0, 0, 0, 1, 0, 0, 0, 0, 0, 0, 0, 0, 0, 0, 0, 0, 0, 0]\n",
            "[0, 0, 0, 0, 0, 0, 0, 0, 0, 0, 0, 1, 0, 0, 0, 0, 0, 0, 0, 0]\n",
            "[0, 1, 0, 0, 0, 0, 0, 0, 0, 0, 0, 0, 0, 0, 0, 0, 0, 0, 0, 0]\n",
            "[0, 0, 0, 0, 1, 0, 0, 0, 0, 0, 0, 0, 0, 0, 0, 0, 0, 0, 0, 0]\n",
            "[0, 0, 0, 0, 0, 0, 0, 0, 0, 0, 0, 0, 0, 0, 0, 1, 0, 0, 0, 0]\n",
            "[0, 0, 0, 0, 0, 0, 0, 0, 0, 0, 0, 0, 1, 0, 0, 0, 0, 0, 0, 0]\n",
            "[0, 0, 0, 0, 0, 0, 0, 0, 1, 0, 0, 0, 0, 0, 0, 0, 0, 0, 0, 0]\n"
          ]
        }
      ],
      "source": [
        "INITIAL_POPULATION = 100\n",
        "BOARD_SIZE = 20\n",
        "MUTATION_CHANCE = 0.1\n",
        "best_pop = 0.5\n",
        "mid_pop = 0.15\n",
        "least_pop = 0.10\n",
        "random_pop = 0.25\n",
        "\n",
        "main(INITIAL_POPULATION, BOARD_SIZE, MUTATION_CHANCE, best_pop, mid_pop, least_pop, random_pop)"
      ]
    }
  ]
}
