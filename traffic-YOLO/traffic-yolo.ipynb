{
 "cells": [
  {
   "cell_type": "markdown",
   "id": "0359fae5",
   "metadata": {},
   "source": [
    "# Traffic Video Analytics with YOLO"
   ]
  },
  {
   "cell_type": "markdown",
   "id": "caf17d58",
   "metadata": {},
   "source": [
    "## Library Imports"
   ]
  },
  {
   "cell_type": "code",
   "execution_count": 25,
   "id": "c178a083",
   "metadata": {},
   "outputs": [],
   "source": [
    "import cv2\n",
    "import numpy as np\n",
    "import supervision as sv\n",
    "from ultralytics import YOLO"
   ]
  },
  {
   "cell_type": "markdown",
   "id": "0611059e",
   "metadata": {},
   "source": [
    "## Zone and Parameter Setup"
   ]
  },
  {
   "cell_type": "code",
   "execution_count": 26,
   "id": "6378c7ed",
   "metadata": {},
   "outputs": [],
   "source": [
    "def setup_zones():\n",
    "    polygon = np.array([\n",
    "        [4, 350], [176, 285], [202, 258], [561, 201], [650, 188], [753, 140],\n",
    "        [948, 167], [948, 225], [1006, 299], [1084, 363], [1182, 452], [1275, 461],\n",
    "        [1278, 653], [1278, 711], [1166, 716], [974, 716], [730, 717], [561, 717],\n",
    "        [554, 638], [722, 590], [807, 511], [819, 450], [777, 377], [683, 335],\n",
    "        [586, 322], [476, 327], [345, 365], [278, 421], [242, 459], [223, 488],\n",
    "        [228, 536], [284, 595], [368, 627], [536, 639], [547, 641], [558, 714],\n",
    "        [10, 716]\n",
    "    ], dtype=np.int32)\n",
    "\n",
    "    classes = [2, 5, 7]\n",
    "\n",
    "    line_zones = [\n",
    "        sv.LineZone(sv.Point(649, 187), sv.Point(926, 229), triggering_anchors=(sv.Position.CENTER,)),\n",
    "        sv.LineZone(sv.Point(1214, 518), sv.Point(1114, 714), triggering_anchors=(sv.Position.CENTER,)),\n",
    "        sv.LineZone(sv.Point(1, 385), sv.Point(181, 271), triggering_anchors=(sv.Position.CENTER,))\n",
    "    ]\n",
    "\n",
    "    polygon_zone = sv.PolygonZone(polygon=polygon, triggering_anchors=(sv.Position.CENTER,))\n",
    "    return polygon, classes, line_zones, polygon_zone"
   ]
  },
  {
   "cell_type": "markdown",
   "id": "020cf54a",
   "metadata": {},
   "source": [
    "## Model and Annotator Initialization"
   ]
  },
  {
   "cell_type": "code",
   "execution_count": 27,
   "id": "b7e50868",
   "metadata": {},
   "outputs": [],
   "source": [
    "def initialize_tools():\n",
    "    model = YOLO(\"yolo11m.pt\")\n",
    "    tracker = sv.ByteTrack(minimum_consecutive_frames=3)\n",
    "    tracker.reset()\n",
    "    smoother = sv.DetectionsSmoother()\n",
    "\n",
    "    box_annotator = sv.BoxAnnotator()\n",
    "    label_annotator = sv.LabelAnnotator(text_color=sv.Color.BLACK)\n",
    "    trace_annotator = sv.TraceAnnotator(trace_length=60)\n",
    "\n",
    "    line_zone_annotator = sv.LineZoneAnnotator(\n",
    "        text_scale=0.8,\n",
    "        text_orient_to_line=True,\n",
    "        custom_in_text=\"in \",\n",
    "        custom_out_text=\"out \",\n",
    "        display_out_count=False,\n",
    "        display_in_count=False\n",
    "    )\n",
    "\n",
    "    line_zone_annotator_multiclass = sv.LineZoneAnnotatorMulticlass(\n",
    "        text_scale=0.8,\n",
    "        text_thickness=2,\n",
    "        table_margin=20\n",
    "    )\n",
    "\n",
    "    return model, tracker, smoother, box_annotator, label_annotator, trace_annotator, line_zone_annotator, line_zone_annotator_multiclass"
   ]
  },
  {
   "cell_type": "markdown",
   "id": "92ff2ac4",
   "metadata": {},
   "source": [
    "## Frame Processing Function"
   ]
  },
  {
   "cell_type": "code",
   "execution_count": 28,
   "id": "cb81066e",
   "metadata": {},
   "outputs": [],
   "source": [
    "def process_frame(frame, model, tracker, smoother, polygon, classes, polygon_zone, line_zones,\n",
    "                  box_annotator, label_annotator, trace_annotator, line_zone_annotator, line_zone_annotator_multiclass):\n",
    "    \n",
    "    resized_frame = cv2.resize(frame, (1280, 720))\n",
    "    result = model(resized_frame, device=\"cuda\", verbose=False, imgsz=1280)[0]\n",
    "    detections = sv.Detections.from_ultralytics(result)\n",
    "    detections = detections[polygon_zone.trigger(detections)]\n",
    "    detections = detections[np.isin(detections.class_id, classes)]\n",
    "    detections = tracker.update_with_detections(detections)\n",
    "    detections = smoother.update_with_detections(detections)\n",
    "\n",
    "    labels = [\n",
    "        f\"#{tracker_id} {model.names[class_id]} {confidence:0.2f}\"\n",
    "        for tracker_id, class_id, confidence in zip(\n",
    "            detections.tracker_id, detections.class_id, detections.confidence\n",
    "        )\n",
    "    ]\n",
    "\n",
    "    for zone in line_zones:\n",
    "        zone.trigger(detections=detections)\n",
    "\n",
    "    annotated_frame = resized_frame.copy()\n",
    "    annotated_frame = sv.draw_polygon(annotated_frame, polygon, sv.Color.RED, thickness=2)\n",
    "    annotated_frame = box_annotator.annotate(annotated_frame, detections)\n",
    "    annotated_frame = label_annotator.annotate(annotated_frame, detections, labels)\n",
    "    annotated_frame = trace_annotator.annotate(annotated_frame, detections)\n",
    "\n",
    "    for zone in line_zones:\n",
    "        annotated_frame = line_zone_annotator.annotate(annotated_frame, zone)\n",
    "\n",
    "    annotated_frame = line_zone_annotator_multiclass.annotate(\n",
    "        annotated_frame,\n",
    "        line_zones=line_zones,\n",
    "        line_zone_labels=[\"Center Line\", \"Right Line\", \"Left Line\"]\n",
    "    )\n",
    "\n",
    "    return annotated_frame"
   ]
  },
  {
   "cell_type": "markdown",
   "id": "53de6670",
   "metadata": {},
   "source": [
    "## Video Processing Function"
   ]
  },
  {
   "cell_type": "code",
   "execution_count": 29,
   "id": "cfee25b5",
   "metadata": {},
   "outputs": [],
   "source": [
    "def process_video(video_file_path, take_frame=False):\n",
    "    polygon, classes, line_zones, polygon_zone = setup_zones()\n",
    "    model, tracker, smoother, box_annotator, label_annotator, trace_annotator, line_zone_annotator, line_zone_annotator_multiclass = initialize_tools()\n",
    "\n",
    "    frame_generator = sv.get_video_frames_generator(source_path=video_file_path, stride=1)\n",
    "    for frame in frame_generator:\n",
    "        annotated_frame = process_frame(\n",
    "            frame, model, tracker, smoother, polygon, classes, polygon_zone, line_zones,\n",
    "            box_annotator, label_annotator, trace_annotator, line_zone_annotator, line_zone_annotator_multiclass\n",
    "        )\n",
    "\n",
    "        if take_frame:\n",
    "            cv2.imwrite(\"frame.jpg\", annotated_frame)\n",
    "            break\n",
    "\n",
    "        cv2.imshow('Processed Video', annotated_frame)\n",
    "        if cv2.waitKey(1) & 0xFF == ord(\"q\"):\n",
    "            break\n",
    "\n",
    "    cv2.destroyAllWindows()"
   ]
  },
  {
   "cell_type": "markdown",
   "id": "056340e4",
   "metadata": {},
   "source": [
    "## Run the Processing"
   ]
  },
  {
   "cell_type": "code",
   "execution_count": 31,
   "id": "022e69e1",
   "metadata": {},
   "outputs": [],
   "source": [
    "video_path = \"traffic-india.mp4\"  # Replace with your actual path\n",
    "process_video(video_path, take_frame=False)"
   ]
  }
 ],
 "metadata": {
  "kernelspec": {
   "display_name": "Yolo",
   "language": "python",
   "name": "python3"
  },
  "language_info": {
   "codemirror_mode": {
    "name": "ipython",
    "version": 3
   },
   "file_extension": ".py",
   "mimetype": "text/x-python",
   "name": "python",
   "nbconvert_exporter": "python",
   "pygments_lexer": "ipython3",
   "version": "3.13.5"
  }
 },
 "nbformat": 4,
 "nbformat_minor": 5
}
