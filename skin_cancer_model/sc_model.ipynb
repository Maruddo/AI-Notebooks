{
  "cells": [
    {
      "cell_type": "markdown",
      "metadata": {
        "id": "view-in-github",
        "colab_type": "text"
      },
      "source": [
        "<a href=\"https://colab.research.google.com/github/Maruddo/AI-Notebooks/blob/main/skin_cancer_model/sc_model.ipynb\" target=\"_parent\"><img src=\"https://colab.research.google.com/assets/colab-badge.svg\" alt=\"Open In Colab\"/></a>"
      ]
    },
    {
      "cell_type": "markdown",
      "id": "b86acc0c-f021-4a53-afb3-99572baf1b19",
      "metadata": {
        "id": "b86acc0c-f021-4a53-afb3-99572baf1b19"
      },
      "source": [
        "# Skin Cancer Model"
      ]
    },
    {
      "cell_type": "markdown",
      "id": "93331bee-8080-480f-be25-589f050ddf4a",
      "metadata": {
        "id": "93331bee-8080-480f-be25-589f050ddf4a"
      },
      "source": [
        "## Import libraries"
      ]
    },
    {
      "cell_type": "code",
      "execution_count": null,
      "id": "157822e0-6240-48d6-be81-338bbae0729d",
      "metadata": {
        "id": "157822e0-6240-48d6-be81-338bbae0729d"
      },
      "outputs": [],
      "source": [
        "import os\n",
        "import matplotlib.pyplot as plt\n",
        "import numpy as np\n",
        "import torch\n",
        "from torch import nn\n",
        "from torchvision import datasets, transforms\n",
        "from torch.utils.data import TensorDataset, Dataset, DataLoader, random_split\n",
        "from torchvision.transforms import ToTensor, Lambda\n",
        "import torchvision.models as models"
      ]
    },
    {
      "cell_type": "markdown",
      "id": "b9c5ec30-7611-4437-ba35-38b3ed5b533b",
      "metadata": {
        "id": "b9c5ec30-7611-4437-ba35-38b3ed5b533b"
      },
      "source": [
        "# Import & Transform dataset"
      ]
    },
    {
      "cell_type": "code",
      "execution_count": null,
      "id": "11743bee-e379-4730-8eb7-eea1824daaf5",
      "metadata": {
        "id": "11743bee-e379-4730-8eb7-eea1824daaf5"
      },
      "outputs": [],
      "source": [
        "def import_dataset(dataset):\n",
        "    transform = transforms.Compose([\n",
        "        transforms.Resize((224,224)),\n",
        "        transforms.ToTensor()\n",
        "        ])\n",
        "\n",
        "    train_data = datasets.ImageFolder(root=f\"{dataset}/train\",transform=transform)\n",
        "    test_data = datasets.ImageFolder(root=f\"{dataset}/test\",transform=transform)\n",
        "\n",
        "    return train_data, test_data"
      ]
    },
    {
      "cell_type": "markdown",
      "id": "16998802-5184-40ef-addf-42ebbfd7f604",
      "metadata": {
        "id": "16998802-5184-40ef-addf-42ebbfd7f604"
      },
      "source": [
        "# Prepare DataLoader\n",
        "## Create DataLoaders"
      ]
    },
    {
      "cell_type": "code",
      "execution_count": null,
      "id": "1fe75b5e-1134-45d5-8d02-692c7aaa13f1",
      "metadata": {
        "id": "1fe75b5e-1134-45d5-8d02-692c7aaa13f1"
      },
      "outputs": [],
      "source": [
        "def create_dataloader(training_data, test_data, batch_size):\n",
        "    train_dataloader = DataLoader(training_data, batch_size, shuffle=True)\n",
        "    test_dataloader = DataLoader(test_data, batch_size, shuffle=False)\n",
        "\n",
        "    return train_dataloader, test_dataloader"
      ]
    },
    {
      "cell_type": "markdown",
      "id": "1dbeb3b8-ea4d-4330-9844-75bc1d96696b",
      "metadata": {
        "id": "1dbeb3b8-ea4d-4330-9844-75bc1d96696b"
      },
      "source": [
        "# Select Device"
      ]
    },
    {
      "cell_type": "code",
      "execution_count": null,
      "id": "15bcf456-909b-4779-8398-b30443f89936",
      "metadata": {
        "id": "15bcf456-909b-4779-8398-b30443f89936"
      },
      "outputs": [],
      "source": [
        "def select_device():\n",
        "    device = (\n",
        "        \"cuda\"\n",
        "        if torch.cuda.is_available()\n",
        "        else \"mps\"\n",
        "        if torch.backends.mps.is_available()\n",
        "        else \"cpu\"\n",
        "    )\n",
        "    return device"
      ]
    },
    {
      "cell_type": "markdown",
      "id": "b9329762-86d0-4248-916d-018a288967dd",
      "metadata": {
        "id": "b9329762-86d0-4248-916d-018a288967dd"
      },
      "source": [
        "# Define the model"
      ]
    },
    {
      "cell_type": "code",
      "execution_count": null,
      "id": "19791fc8-c3f7-4fd5-9b04-13c4cb1a7c30",
      "metadata": {
        "id": "19791fc8-c3f7-4fd5-9b04-13c4cb1a7c30"
      },
      "outputs": [],
      "source": [
        "class NeuralNetwork(nn.Module):\n",
        "    def __init__(self):\n",
        "        super().__init__()\n",
        "        self.features = nn.Sequential(\n",
        "            nn.Conv2d(in_channels=3,out_channels=32,kernel_size=5,stride=2),\n",
        "            nn.MaxPool2d(kernel_size=2,stride=2,padding=0),\n",
        "            nn.Conv2d(in_channels=32,out_channels=64,kernel_size=3,stride=2),\n",
        "            nn.MaxPool2d(kernel_size=2,stride=2,padding=0),\n",
        "                nn.Flatten(),\n",
        "                nn.Linear(10816,5000),\n",
        "                nn.LeakyReLU(),\n",
        "                nn.Linear(5000,2000),\n",
        "                nn.LeakyReLU(),\n",
        "                nn.Linear(2000,200),\n",
        "                nn.LeakyReLU(),\n",
        "                nn.Linear(200,2)\n",
        "        )\n",
        "\n",
        "    def forward(self, X):\n",
        "        logits = self.features(X)\n",
        "        return logits\n",
        "\n",
        "def load_model(weights, device):\n",
        "    model = NeuralNetwork().to(device)\n",
        "    if os.path.exists(weights):\n",
        "         try:\n",
        "             model.load_state_dict(torch.load(weights, mmap=True, weights_only=True), assign=True)\n",
        "         except:\n",
        "             print(\"None weights were loaded\")\n",
        "    return model"
      ]
    },
    {
      "cell_type": "markdown",
      "id": "73496393-94ef-4b0e-9781-f0811ad5d489",
      "metadata": {
        "id": "73496393-94ef-4b0e-9781-f0811ad5d489"
      },
      "source": [
        "# Train & Test"
      ]
    },
    {
      "cell_type": "code",
      "execution_count": null,
      "id": "cdce7d76-c699-47b9-8e04-6c9a45270a39",
      "metadata": {
        "id": "cdce7d76-c699-47b9-8e04-6c9a45270a39"
      },
      "outputs": [],
      "source": [
        "def train_loop(dataloader, model, loss_fn, optimizer, device):\n",
        "    size = len(dataloader.dataset)\n",
        "    # Set the model to training mode - important for batch normalization and dropout layers\n",
        "    # Unnecessary in this situation but added for best practices\n",
        "    model.train()\n",
        "    for batch, (X, y) in enumerate(dataloader):\n",
        "        X, y = X.to(device), y.to(device)\n",
        "        # Compute prediction and loss\n",
        "        pred = model(X)\n",
        "        loss = loss_fn(pred, y)\n",
        "\n",
        "        # Backpropagation\n",
        "        loss.backward()\n",
        "        optimizer.step()\n",
        "        optimizer.zero_grad()\n",
        "\n",
        "\n",
        "        if batch % 25 == 0:\n",
        "            loss, current = loss.item(), batch * batch_size + len(X)\n",
        "            print(f\"loss: {loss:>7f}  [{current:>5d}/{size:>5d}]\")\n",
        "\n",
        "def test_loop(dataloader, model, loss_fn, device, best_accuracy, best_weights):\n",
        "    # Set the model to evaluation mode - important for batch normalization and dropout layers\n",
        "    # Unnecessary in this situation but added for best practices\n",
        "    model.eval()\n",
        "    size = len(dataloader.dataset)\n",
        "    num_batches = len(dataloader)\n",
        "    test_loss, correct = 0, 0\n",
        "\n",
        "    # Evaluating the model with torch.no_grad() ensures that no gradients are computed during test mode\n",
        "    # also serves to reduce unnecessary gradient computations and memory usage for tensors with requires_grad=True\n",
        "    with torch.no_grad():\n",
        "        for X, y in dataloader:\n",
        "            X, y = X.to(device), y.to(device)\n",
        "            pred = model(X)\n",
        "            test_loss += loss_fn(pred, y).item()\n",
        "            correct += (pred.argmax(1) == y).type(torch.float).sum().item()\n",
        "\n",
        "    test_loss /= num_batches\n",
        "    accuracy = correct / size\n",
        "\n",
        "    print(f\"Test Error: \\n Accuracy: {(100*accuracy):>0.1f}%, Avg loss: {test_loss:>8f} \\n\")\n",
        "\n",
        "    if should_save_best_model(accuracy, best_accuracy):\n",
        "        best_accuracy = accuracy\n",
        "        best_weights = model.state_dict()\n",
        "\n",
        "    return best_accuracy, best_weights"
      ]
    },
    {
      "cell_type": "markdown",
      "source": [
        "## Save only the best weights (optional and not useful for all cases)"
      ],
      "metadata": {
        "id": "c07EQc2fmHhE"
      },
      "id": "c07EQc2fmHhE"
    },
    {
      "cell_type": "code",
      "source": [
        "def should_save_best_model(accuracy, best_accuracy):\n",
        "    return accuracy > best_accuracy"
      ],
      "metadata": {
        "id": "H4akJG4JmIGS"
      },
      "id": "H4akJG4JmIGS",
      "execution_count": null,
      "outputs": []
    },
    {
      "cell_type": "markdown",
      "id": "b5b6b9e0-764c-4864-bfc0-6725d4e57609",
      "metadata": {
        "id": "b5b6b9e0-764c-4864-bfc0-6725d4e57609"
      },
      "source": [
        "# Main function"
      ]
    },
    {
      "cell_type": "code",
      "execution_count": null,
      "id": "d5d8dcca-9d4b-43e0-9141-d63e5c399dd4",
      "metadata": {
        "id": "d5d8dcca-9d4b-43e0-9141-d63e5c399dd4"
      },
      "outputs": [],
      "source": [
        "def __main__(dataset,learning_rate,batch_size,epochs):\n",
        "    loss_fn = nn.CrossEntropyLoss()\n",
        "    device = select_device()\n",
        "    model = load_model('model_weights.pth', device)\n",
        "    best_accuracy = 0.0\n",
        "    best_weights = None\n",
        "\n",
        "    train_on = input(\"Do you want to train? Yes(y), No(enter)\")\n",
        "    if train_on:\n",
        "        training_data, test_data = import_dataset(dataset)\n",
        "        train_dataloader, test_dataloader = create_dataloader(training_data,test_data,batch_size)\n",
        "        optimizer = torch.optim.Adam(model.parameters(), lr=learning_rate)\n",
        "        next_train = True\n",
        "        while next_train:\n",
        "            for t in range(epochs):\n",
        "                print(f\"Epoch {t+1}\\n-------------------------------\")\n",
        "                train_loop(train_dataloader, model, loss_fn, optimizer, device)\n",
        "                best_accuracy, best_weights = test_loop(test_dataloader, model, loss_fn, device, best_accuracy, best_weights)\n",
        "\n",
        "            print(f\"Best accuracy: {(100 * best_accuracy):.1f}% with learning rate {learning_rate}\")\n",
        "            save_on = input(\"Do you want to save? Yes(Any), No(enter): \")\n",
        "            if save_on:\n",
        "              print(\"Done! Saving process...\")\n",
        "              torch.save(best_weights, 'model_weights.pth')\n",
        "\n",
        "            stop_train = input(\"Should we continue training? No(Any) Yes(Enter) -> \")\n",
        "            if stop_train:\n",
        "                next_train = False\n",
        "            else:\n",
        "                change_lr = input(\"Change the learning rate? Yes(Any) No(Enter) -> \")\n",
        "                if change_lr:\n",
        "                    try:\n",
        "                        learning_rate=float(input(\"New learning rate: \"))\n",
        "                    except:\n",
        "                        print(\"Ignoring new learning rate\")\n",
        "                change_epochs = input(f\"Change the number of epochs ({epochs})? Yes(Any) No(Enter) -> \")\n",
        "                if change_epochs:\n",
        "                    try:\n",
        "                        epochs=int(input(\"New number of epochs: \"))\n",
        "                    except:\n",
        "                        print(\"Ignoring new learning rate\")\n",
        "    else:\n",
        "        test_loop(test_dataloader, model, loss_fn, device)"
      ]
    },
    {
      "cell_type": "markdown",
      "id": "aa7e21e5-091f-4604-922e-5f3b05b0f078",
      "metadata": {
        "id": "aa7e21e5-091f-4604-922e-5f3b05b0f078"
      },
      "source": [
        "# Call main and set globals"
      ]
    },
    {
      "cell_type": "code",
      "execution_count": null,
      "id": "f322522e-3509-4ce9-a20a-c4c00e8c893c",
      "metadata": {
        "id": "f322522e-3509-4ce9-a20a-c4c00e8c893c",
        "outputId": "baeb5d9c-b93c-424a-c69c-a1a0fce951cd"
      },
      "outputs": [
        {
          "name": "stdin",
          "output_type": "stream",
          "text": [
            "Do you want to train? Yes(y), No(enter) y\n"
          ]
        },
        {
          "name": "stdout",
          "output_type": "stream",
          "text": [
            "Epoch 1\n",
            "-------------------------------\n",
            "loss: 0.189540  [  500/ 9605]\n",
            "Test Error: \n",
            " Accuracy: 89.2%, Avg loss: 0.275762 \n",
            "\n",
            "Epoch 2\n",
            "-------------------------------\n",
            "loss: 0.253691  [  500/ 9605]\n",
            "Test Error: \n",
            " Accuracy: 88.4%, Avg loss: 0.257420 \n",
            "\n",
            "Epoch 3\n",
            "-------------------------------\n",
            "loss: 0.260218  [  500/ 9605]\n",
            "Test Error: \n",
            " Accuracy: 88.6%, Avg loss: 0.243113 \n",
            "\n",
            "Epoch 4\n",
            "-------------------------------\n",
            "loss: 0.205118  [  500/ 9605]\n",
            "Test Error: \n",
            " Accuracy: 88.1%, Avg loss: 0.252951 \n",
            "\n",
            "Epoch 5\n",
            "-------------------------------\n",
            "loss: 0.237253  [  500/ 9605]\n",
            "Test Error: \n",
            " Accuracy: 89.6%, Avg loss: 0.241601 \n",
            "\n",
            "Epoch 6\n",
            "-------------------------------\n",
            "loss: 0.212053  [  500/ 9605]\n",
            "Test Error: \n",
            " Accuracy: 89.6%, Avg loss: 0.244763 \n",
            "\n",
            "Epoch 7\n",
            "-------------------------------\n",
            "loss: 0.229738  [  500/ 9605]\n",
            "Test Error: \n",
            " Accuracy: 89.8%, Avg loss: 0.238783 \n",
            "\n",
            "Epoch 8\n",
            "-------------------------------\n",
            "loss: 0.172356  [  500/ 9605]\n",
            "Test Error: \n",
            " Accuracy: 90.1%, Avg loss: 0.242024 \n",
            "\n",
            "Epoch 9\n",
            "-------------------------------\n",
            "loss: 0.204058  [  500/ 9605]\n",
            "Test Error: \n",
            " Accuracy: 89.9%, Avg loss: 0.235425 \n",
            "\n",
            "Epoch 10\n",
            "-------------------------------\n",
            "loss: 0.211936  [  500/ 9605]\n",
            "Test Error: \n",
            " Accuracy: 85.9%, Avg loss: 0.338543 \n",
            "\n",
            "Done! Saving process...\n",
            "Best Accuracy: 90.1% Using Learning Rate: 0.0008\n"
          ]
        },
        {
          "name": "stdin",
          "output_type": "stream",
          "text": [
            "Should we continue training? No(Any) Yes(Enter) ->  n\n"
          ]
        }
      ],
      "source": [
        "if __name__ == '__main__':\n",
        "    dataset = 'melanoma_ds'\n",
        "    learning_rate = 0.0008\n",
        "    batch_size = 500\n",
        "    epochs = 10\n",
        "    __main__(dataset,learning_rate,batch_size,epochs)"
      ]
    },
    {
      "cell_type": "code",
      "execution_count": null,
      "id": "371d8a73-6df7-44f2-ba8d-b7f6413c84ac",
      "metadata": {
        "id": "371d8a73-6df7-44f2-ba8d-b7f6413c84ac"
      },
      "outputs": [],
      "source": []
    }
  ],
  "metadata": {
    "kernelspec": {
      "display_name": "PYTORCH",
      "language": "python",
      "name": "pytorch"
    },
    "language_info": {
      "codemirror_mode": {
        "name": "ipython",
        "version": 3
      },
      "file_extension": ".py",
      "mimetype": "text/x-python",
      "name": "python",
      "nbconvert_exporter": "python",
      "pygments_lexer": "ipython3",
      "version": "3.10.12"
    },
    "colab": {
      "provenance": [],
      "include_colab_link": true
    }
  },
  "nbformat": 4,
  "nbformat_minor": 5
}